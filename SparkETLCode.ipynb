{
 "cells": [
  {
   "cell_type": "code",
   "execution_count": 2,
   "metadata": {},
   "outputs": [],
   "source": [
    "import os\n",
    "import sys\n",
    "os.environ[\"PYSPARK_PYTHON\"] = \"/opt/cloudera/parcels/Anaconda/bin/python\"\n",
    "os.environ[\"JAVA_HOME\"] = \"/usr/java/jdk1.8.0_232-cloudera/jre\"\n",
    "os.environ[\"SPARK_HOME\"]=\"/opt/cloudera/parcels/SPARK2-2.3.0.cloudera2-1.cdh5.13.3.p0.316101/lib/spark2/\"\n",
    "os.environ[\"PYLIB\"] = os.environ[\"SPARK_HOME\"] + \"/python/lib\"\n",
    "sys.path.insert(0, os.environ[\"PYLIB\"] +\"/py4j-0.10.6-src.zip\")\n",
    "sys.path.insert(0, os.environ[\"PYLIB\"] +\"/pyspark.zip\")"
   ]
  },
  {
   "cell_type": "code",
   "execution_count": 3,
   "metadata": {},
   "outputs": [
    {
     "data": {
      "text/html": [
       "\n",
       "            <div>\n",
       "                <p><b>SparkSession - hive</b></p>\n",
       "                \n",
       "        <div>\n",
       "            <p><b>SparkContext</b></p>\n",
       "\n",
       "            <p><a href=\"http://ip-10-0-0-79.ec2.internal:4040\">Spark UI</a></p>\n",
       "\n",
       "            <dl>\n",
       "              <dt>Version</dt>\n",
       "                <dd><code>v2.3.0.cloudera2</code></dd>\n",
       "              <dt>Master</dt>\n",
       "                <dd><code>local</code></dd>\n",
       "              <dt>AppName</dt>\n",
       "                <dd><code>demo</code></dd>\n",
       "            </dl>\n",
       "        </div>\n",
       "        \n",
       "            </div>\n",
       "        "
      ],
      "text/plain": [
       "<pyspark.sql.session.SparkSession at 0x7fb2ad2fbe90>"
      ]
     },
     "execution_count": 3,
     "metadata": {},
     "output_type": "execute_result"
    }
   ],
   "source": [
    "from pyspark.sql import SparkSession\n",
    "spark = SparkSession.builder.appName('demo').master(\"local\").getOrCreate()\n",
    "spark"
   ]
  },
  {
   "cell_type": "code",
   "execution_count": 4,
   "metadata": {},
   "outputs": [],
   "source": [
    "df = spark.read.csv(\"hdfs://ip-10-0-0-79.ec2.internal:8020/user/root/ATM/part-m-00000\", inferSchema= True , header= True )"
   ]
  },
  {
   "cell_type": "code",
   "execution_count": 5,
   "metadata": {},
   "outputs": [],
   "source": [
    "from pyspark.sql.types import StructType, StructField, IntegerType, StringType, BooleanType, DoubleType, LongType"
   ]
  },
  {
   "cell_type": "code",
   "execution_count": 6,
   "metadata": {},
   "outputs": [
    {
     "name": "stdout",
     "output_type": "stream",
     "text": [
      "+----+-------+---+------+---+--------+---+---+----------+-------------------+---+----+------+------+---+----------+----+----------+----+----+------+------+-------+--------------+-------+----+---+---+---+-----+---+---+-------+--------------------+\n",
      "|2017|January| 12|Sunday|  0|  Active| 16|NCR|NÃƒÂ¦stved|        Farimagsvej|  8|4700|55.233|11.763|DKK|MasterCard|5643|Withdrawal|_c18|_c19|55.230|11.761|2616038|      Naestved|281.150|1014| 87|  7|260|0.215| 92|500|   Rain|          light rain|\n",
      "+----+-------+---+------+---+--------+---+---+----------+-------------------+---+----+------+------+---+----------+----+----------+----+----+------+------+-------+--------------+-------+----+---+---+---+-----+---+---+-------+--------------------+\n",
      "|2017|January|  1|Sunday|  0|Inactive|  2|NCR|  Vejgaard|         Hadsundvej| 20|9000|57.043|  9.95|DKK|MasterCard|1764|Withdrawal|null|null|57.048| 9.935|2616235|NÃƒÂ¸rresundby| 280.64|1020| 93|  9|250| 0.59| 92|500|   Rain|          light rain|\n",
      "|2017|January|  1|Sunday|  0|Inactive|  2|NCR|  Vejgaard|         Hadsundvej| 20|9000|57.043|  9.95|DKK|      VISA|1891|Withdrawal|null|null|57.048| 9.935|2616235|NÃƒÂ¸rresundby| 280.64|1020| 93|  9|250| 0.59| 92|500|   Rain|          light rain|\n",
      "|2017|January|  1|Sunday|  0|Inactive|  3|NCR|     Ikast|RÃƒÂ¥dhusstrÃƒÂ¦det| 12|7430|56.139| 9.154|DKK|      VISA|4166|Withdrawal|null|null|56.139| 9.158|2619426|         Ikast| 281.15|1011|100|  6|240|  0.0| 75|300|Drizzle|light intensity d...|\n",
      "|2017|January|  1|Sunday|  0|  Active|  4|NCR|Svogerslev|       BrÃƒÂ¸nsager|  1|4000|55.634|12.018|DKK|MasterCard|5153|Withdrawal|null|null|55.642| 12.08|2614481|      Roskilde| 280.61|1014| 87|  7|260|  0.0| 88|701|   Mist|                mist|\n",
      "|2017|January|  1|Sunday|  0|  Active|  5|NCR|      Nibe|             Torvet|  1|9240|56.983| 9.639|DKK|MasterCard|3269|Withdrawal|null|null|56.981| 9.639|2616483|          Nibe| 280.64|1020| 93|  9|250| 0.59| 92|500|   Rain|          light rain|\n",
      "+----+-------+---+------+---+--------+---+---+----------+-------------------+---+----+------+------+---+----------+----+----------+----+----+------+------+-------+--------------+-------+----+---+---+---+-----+---+---+-------+--------------------+\n",
      "only showing top 5 rows\n",
      "\n"
     ]
    }
   ],
   "source": [
    "df.show(5)"
   ]
  },
  {
   "cell_type": "code",
   "execution_count": 7,
   "metadata": {},
   "outputs": [],
   "source": [
    "fileSchema = StructType([StructField('year', IntegerType(),True),\n",
    "                        StructField('month', StringType(),True),\n",
    "                        StructField('day', IntegerType(),True),\n",
    "                        StructField('weekday', StringType(),True),\n",
    "                        StructField('hour', IntegerType(),True),\n",
    "                        StructField('atm_status', StringType(),True),\n",
    "                        StructField('atm_id', IntegerType(),True),\n",
    "                        StructField('atm_manufacturer', StringType(),True),\n",
    "                        StructField('atm_location', StringType(),True),\n",
    "                        StructField('atm_streetname', StringType(),True),\n",
    "                        StructField('atm_street_number', IntegerType(),True),\n",
    "                        StructField('atm_zipcode', IntegerType(),True),\n",
    "                        StructField('atm_lat', DoubleType(),True),\n",
    "                        StructField('atm_lon', DoubleType(),True),\n",
    "                        StructField('currency', StringType(),True),\n",
    "                        StructField('card_type', StringType(),True), \n",
    "                        StructField('transaction_amount', LongType(),True),\n",
    "                        StructField('service', StringType(),True),\n",
    "                        StructField('message_code', StringType(),True),\n",
    "                        StructField('message_text', StringType(),True),\n",
    "                        StructField('weather_lat', DoubleType(),True),\n",
    "                        StructField('weather_lon', DoubleType(),True),\n",
    "                        StructField('weather_city_id', LongType(),True),\n",
    "                        StructField('weather_city_name', StringType(),True),\n",
    "                        StructField('temp', DoubleType(),True), \n",
    "                        StructField('pressure', IntegerType(),True),\n",
    "                        StructField('humidity', IntegerType(),True),\n",
    "                        StructField('wind_speed', IntegerType(),True),\n",
    "                        StructField('wind_deg', IntegerType(),True),\n",
    "                        StructField('rain_3h', DoubleType(),True),\n",
    "                        StructField('clouds_all', IntegerType(),True),\n",
    "                        StructField('weather_id', IntegerType(),True),\n",
    "                        StructField('weather_main', StringType(),True),\n",
    "                        StructField('weather_description', StringType(),True),\n",
    "                        ])"
   ]
  },
  {
   "cell_type": "code",
   "execution_count": 8,
   "metadata": {},
   "outputs": [],
   "source": [
    "df = spark.read.csv(\"hdfs://ip-10-0-0-79.ec2.internal:8020/user/root/ATM/part-m-00000\", schema=fileSchema , header= False )"
   ]
  },
  {
   "cell_type": "code",
   "execution_count": 9,
   "metadata": {},
   "outputs": [
    {
     "name": "stdout",
     "output_type": "stream",
     "text": [
      "root\n",
      " |-- year: integer (nullable = true)\n",
      " |-- month: string (nullable = true)\n",
      " |-- day: integer (nullable = true)\n",
      " |-- weekday: string (nullable = true)\n",
      " |-- hour: integer (nullable = true)\n",
      " |-- atm_status: string (nullable = true)\n",
      " |-- atm_id: integer (nullable = true)\n",
      " |-- atm_manufacturer: string (nullable = true)\n",
      " |-- atm_location: string (nullable = true)\n",
      " |-- atm_streetname: string (nullable = true)\n",
      " |-- atm_street_number: integer (nullable = true)\n",
      " |-- atm_zipcode: integer (nullable = true)\n",
      " |-- atm_lat: double (nullable = true)\n",
      " |-- atm_lon: double (nullable = true)\n",
      " |-- currency: string (nullable = true)\n",
      " |-- card_type: string (nullable = true)\n",
      " |-- transaction_amount: long (nullable = true)\n",
      " |-- service: string (nullable = true)\n",
      " |-- message_code: string (nullable = true)\n",
      " |-- message_text: string (nullable = true)\n",
      " |-- weather_lat: double (nullable = true)\n",
      " |-- weather_lon: double (nullable = true)\n",
      " |-- weather_city_id: long (nullable = true)\n",
      " |-- weather_city_name: string (nullable = true)\n",
      " |-- temp: double (nullable = true)\n",
      " |-- pressure: integer (nullable = true)\n",
      " |-- humidity: integer (nullable = true)\n",
      " |-- wind_speed: integer (nullable = true)\n",
      " |-- wind_deg: integer (nullable = true)\n",
      " |-- rain_3h: double (nullable = true)\n",
      " |-- clouds_all: integer (nullable = true)\n",
      " |-- weather_id: integer (nullable = true)\n",
      " |-- weather_main: string (nullable = true)\n",
      " |-- weather_description: string (nullable = true)\n",
      "\n"
     ]
    }
   ],
   "source": [
    "df.printSchema()"
   ]
  },
  {
   "cell_type": "code",
   "execution_count": 10,
   "metadata": {},
   "outputs": [
    {
     "name": "stdout",
     "output_type": "stream",
     "text": [
      "+----+-------+---+-------+----+----------+------+----------------+------------+-------------------+-----------------+-----------+-------+-------+--------+----------+------------------+----------+------------+------------+-----------+-----------+---------------+-----------------+------+--------+--------+----------+--------+-------+----------+----------+------------+--------------------+\n",
      "|year|  month|day|weekday|hour|atm_status|atm_id|atm_manufacturer|atm_location|     atm_streetname|atm_street_number|atm_zipcode|atm_lat|atm_lon|currency| card_type|transaction_amount|   service|message_code|message_text|weather_lat|weather_lon|weather_city_id|weather_city_name|  temp|pressure|humidity|wind_speed|wind_deg|rain_3h|clouds_all|weather_id|weather_main| weather_description|\n",
      "+----+-------+---+-------+----+----------+------+----------------+------------+-------------------+-----------------+-----------+-------+-------+--------+----------+------------------+----------+------------+------------+-----------+-----------+---------------+-----------------+------+--------+--------+----------+--------+-------+----------+----------+------------+--------------------+\n",
      "|2017|January|  1| Sunday|   0|    Active|     1|             NCR|  NÃƒÂ¦stved|        Farimagsvej|                8|       4700| 55.233| 11.763|     DKK|MasterCard|              5643|Withdrawal|        null|        null|      55.23|     11.761|        2616038|         Naestved|281.15|    1014|      87|         7|     260|  0.215|        92|       500|        Rain|          light rain|\n",
      "|2017|January|  1| Sunday|   0|  Inactive|     2|             NCR|    Vejgaard|         Hadsundvej|               20|       9000| 57.043|   9.95|     DKK|MasterCard|              1764|Withdrawal|        null|        null|     57.048|      9.935|        2616235|   NÃƒÂ¸rresundby|280.64|    1020|      93|         9|     250|   0.59|        92|       500|        Rain|          light rain|\n",
      "|2017|January|  1| Sunday|   0|  Inactive|     2|             NCR|    Vejgaard|         Hadsundvej|               20|       9000| 57.043|   9.95|     DKK|      VISA|              1891|Withdrawal|        null|        null|     57.048|      9.935|        2616235|   NÃƒÂ¸rresundby|280.64|    1020|      93|         9|     250|   0.59|        92|       500|        Rain|          light rain|\n",
      "|2017|January|  1| Sunday|   0|  Inactive|     3|             NCR|       Ikast|RÃƒÂ¥dhusstrÃƒÂ¦det|               12|       7430| 56.139|  9.154|     DKK|      VISA|              4166|Withdrawal|        null|        null|     56.139|      9.158|        2619426|            Ikast|281.15|    1011|     100|         6|     240|    0.0|        75|       300|     Drizzle|light intensity d...|\n",
      "|2017|January|  1| Sunday|   0|    Active|     4|             NCR|  Svogerslev|       BrÃƒÂ¸nsager|                1|       4000| 55.634| 12.018|     DKK|MasterCard|              5153|Withdrawal|        null|        null|     55.642|      12.08|        2614481|         Roskilde|280.61|    1014|      87|         7|     260|    0.0|        88|       701|        Mist|                mist|\n",
      "+----+-------+---+-------+----+----------+------+----------------+------------+-------------------+-----------------+-----------+-------+-------+--------+----------+------------------+----------+------------+------------+-----------+-----------+---------------+-----------------+------+--------+--------+----------+--------+-------+----------+----------+------------+--------------------+\n",
      "only showing top 5 rows\n",
      "\n"
     ]
    }
   ],
   "source": [
    "df.show(5)"
   ]
  },
  {
   "cell_type": "code",
   "execution_count": 11,
   "metadata": {},
   "outputs": [
    {
     "data": {
      "text/plain": [
       "2468572"
      ]
     },
     "execution_count": 11,
     "metadata": {},
     "output_type": "execute_result"
    }
   ],
   "source": [
    "df.count()"
   ]
  },
  {
   "cell_type": "code",
   "execution_count": 12,
   "metadata": {},
   "outputs": [],
   "source": [
    "from pyspark.sql.functions import *"
   ]
  },
  {
   "cell_type": "code",
   "execution_count": 13,
   "metadata": {},
   "outputs": [],
   "source": [
    "DIM_LOCATION=df.select(\"atm_location\",\"atm_streetname\",\"atm_street_number\",\"atm_zipcode\",\"atm_lat\",\"atm_lon\").distinct()"
   ]
  },
  {
   "cell_type": "code",
   "execution_count": 14,
   "metadata": {},
   "outputs": [],
   "source": [
    "from pyspark.sql.window import Window\n",
    "DIM_LOCATION=DIM_LOCATION.withColumn('atm_location_id',row_number().over(Window.orderBy(monotonically_increasing_id())));\n",
    "DIM_LOCATION=DIM_LOCATION.select(\"atm_location_id\",\"atm_location\",\"atm_streetname\",\"atm_street_number\",\"atm_zipcode\",\"atm_lat\",\"atm_lon\")"
   ]
  },
  {
   "cell_type": "code",
   "execution_count": 15,
   "metadata": {},
   "outputs": [],
   "source": [
    "DIM_LOCATION=DIM_LOCATION.na.drop()"
   ]
  },
  {
   "cell_type": "code",
   "execution_count": 16,
   "metadata": {},
   "outputs": [
    {
     "name": "stdout",
     "output_type": "stream",
     "text": [
      "+---------------+-----------------+----------------+-----------------+-----------+-------+-------+\n",
      "|atm_location_id|     atm_location|  atm_streetname|atm_street_number|atm_zipcode|atm_lat|atm_lon|\n",
      "+---------------+-----------------+----------------+-----------------+-----------+-------+-------+\n",
      "|              1|            Vadum|  Ellehammersvej|               43|       9430| 57.118|  9.861|\n",
      "|              2|         Slagelse| Mariendals Alle|               29|       4200| 55.398| 11.342|\n",
      "|              3|       Fredericia|SjÃƒÂ¦llandsgade|               33|       7000| 55.564|  9.757|\n",
      "|              4|          Kolding|        Vejlevej|              135|       6000| 55.505|  9.457|\n",
      "|              5|HÃƒÂ¸rning Hallen|        Toftevej|               53|       8362| 56.091| 10.033|\n",
      "+---------------+-----------------+----------------+-----------------+-----------+-------+-------+\n",
      "only showing top 5 rows\n",
      "\n"
     ]
    }
   ],
   "source": [
    "DIM_LOCATION.show(5)"
   ]
  },
  {
   "cell_type": "code",
   "execution_count": 17,
   "metadata": {},
   "outputs": [],
   "source": [
    "DIM_CARD_TYPE=df.select(\"card_type\").distinct()"
   ]
  },
  {
   "cell_type": "code",
   "execution_count": 18,
   "metadata": {},
   "outputs": [],
   "source": [
    "DIM_CARD_TYPE=DIM_CARD_TYPE.withColumn('card_type_id',row_number().over(Window.orderBy(monotonically_increasing_id())));\n",
    "DIM_CARD_TYPE=DIM_CARD_TYPE.select(\"card_type_id\",\"card_type\")"
   ]
  },
  {
   "cell_type": "code",
   "execution_count": 19,
   "metadata": {},
   "outputs": [],
   "source": [
    "DIM_CARD_TYPE=DIM_CARD_TYPE.na.drop()"
   ]
  },
  {
   "cell_type": "code",
   "execution_count": 20,
   "metadata": {},
   "outputs": [
    {
     "data": {
      "text/plain": [
       "12"
      ]
     },
     "execution_count": 20,
     "metadata": {},
     "output_type": "execute_result"
    }
   ],
   "source": [
    "DIM_CARD_TYPE.count()"
   ]
  },
  {
   "cell_type": "code",
   "execution_count": 21,
   "metadata": {},
   "outputs": [],
   "source": [
    "DIM_DATE = df.select(\"year\",\"month\",\"day\",\"hour\",\"weekday\")"
   ]
  },
  {
   "cell_type": "code",
   "execution_count": 22,
   "metadata": {},
   "outputs": [],
   "source": [
    "DIM_DATE = DIM_DATE.withColumn('full_date_time', unix_timestamp(concat_ws(\"-\",col(\"year\"),col(\"month\"),col(\"day\"),col(\"Hour\")), \"yyyy-MMMM-dd-HH\").cast('timestamp')).distinct()"
   ]
  },
  {
   "cell_type": "code",
   "execution_count": 23,
   "metadata": {},
   "outputs": [],
   "source": [
    "DIM_DATE = DIM_DATE.withColumn('date_id',row_number().over(Window.orderBy(monotonically_increasing_id())));\n",
    "DIM_DATE = DIM_DATE.select(\"date_id\",\"full_date_time\",\"year\",\"month\",\"day\",\"hour\",\"weekday\")"
   ]
  },
  {
   "cell_type": "code",
   "execution_count": 24,
   "metadata": {},
   "outputs": [
    {
     "data": {
      "text/plain": [
       "8685"
      ]
     },
     "execution_count": 24,
     "metadata": {},
     "output_type": "execute_result"
    }
   ],
   "source": [
    "DIM_DATE.count()"
   ]
  },
  {
   "cell_type": "code",
   "execution_count": 25,
   "metadata": {},
   "outputs": [],
   "source": [
    "DIM_ATM=df.select(col(\"atm_id\").alias(\"atm_number\"),\"atm_manufacturer\",\"atm_lat\",\"atm_lon\").distinct()"
   ]
  },
  {
   "cell_type": "code",
   "execution_count": 26,
   "metadata": {},
   "outputs": [],
   "source": [
    "DIM_ATM=DIM_ATM.na.drop()"
   ]
  },
  {
   "cell_type": "code",
   "execution_count": 27,
   "metadata": {},
   "outputs": [
    {
     "name": "stdout",
     "output_type": "stream",
     "text": [
      "+----------+----------------+-------+-------+\n",
      "|atm_number|atm_manufacturer|atm_lat|atm_lon|\n",
      "+----------+----------------+-------+-------+\n",
      "|         7| Diebold Nixdorf| 57.168| 10.148|\n",
      "|       107| Diebold Nixdorf| 55.505|  9.457|\n",
      "|        55|             NCR| 56.769|  9.859|\n",
      "|        11|             NCR| 57.023|   9.94|\n",
      "|        45|             NCR| 57.447| 10.506|\n",
      "+----------+----------------+-------+-------+\n",
      "only showing top 5 rows\n",
      "\n"
     ]
    }
   ],
   "source": [
    "DIM_ATM.show(5)"
   ]
  },
  {
   "cell_type": "code",
   "execution_count": 28,
   "metadata": {},
   "outputs": [],
   "source": [
    "DIM_ATM=DIM_ATM.withColumn('atm_id',row_number().over(Window.orderBy(monotonically_increasing_id())));\n",
    "DIM_ATM=DIM_ATM.select(\"atm_id\",\"atm_number\",\"atm_manufacturer\",\"atm_lat\",\"atm_lon\")"
   ]
  },
  {
   "cell_type": "code",
   "execution_count": 29,
   "metadata": {},
   "outputs": [
    {
     "name": "stdout",
     "output_type": "stream",
     "text": [
      "+------+----------+----------------+-------+-------+\n",
      "|atm_id|atm_number|atm_manufacturer|atm_lat|atm_lon|\n",
      "+------+----------+----------------+-------+-------+\n",
      "|     1|         7| Diebold Nixdorf| 57.168| 10.148|\n",
      "|     2|       107| Diebold Nixdorf| 55.505|  9.457|\n",
      "|     3|        55|             NCR| 56.769|  9.859|\n",
      "|     4|        11|             NCR| 57.023|   9.94|\n",
      "|     5|        45|             NCR| 57.447| 10.506|\n",
      "+------+----------+----------------+-------+-------+\n",
      "only showing top 5 rows\n",
      "\n"
     ]
    }
   ],
   "source": [
    "DIM_ATM.show(5)"
   ]
  },
  {
   "cell_type": "code",
   "execution_count": 30,
   "metadata": {},
   "outputs": [
    {
     "name": "stdout",
     "output_type": "stream",
     "text": [
      "+-------+-------+------+----------+----------------+---------------+--------------+------------------+-----------------+-----------+\n",
      "|atm_lat|atm_lon|atm_id|atm_number|atm_manufacturer|atm_location_id|  atm_location|    atm_streetname|atm_street_number|atm_zipcode|\n",
      "+-------+-------+------+----------+----------------+---------------+--------------+------------------+-----------------+-----------+\n",
      "| 55.058| 10.609|    33|        84|             NCR|             44|     Svendborg|Sankt Nicolai Gade|                1|       5700|\n",
      "| 55.233| 11.763|    11|         1|             NCR|             98|    NÃƒÂ¦stved|       Farimagsvej|                8|       4700|\n",
      "| 55.318| 10.781|    36|        78| Diebold Nixdorf|             64|        Nyborg|        Vestergade|               35|       5800|\n",
      "| 55.394|  10.37|    76|        98|             NCR|             38|        Odense|      FÃƒÂ¦lledvej|                3|       5000|\n",
      "| 55.394|  10.37|    76|        98|             NCR|             94|Intern  Odense|      FÃƒÂ¦lledvej|                3|       5000|\n",
      "+-------+-------+------+----------+----------------+---------------+--------------+------------------+-----------------+-----------+\n",
      "only showing top 5 rows\n",
      "\n"
     ]
    }
   ],
   "source": [
    "df1 = DIM_ATM.join(DIM_LOCATION, on=['atm_lat','atm_lon'], how='outer')\n",
    "df1.show(5)"
   ]
  },
  {
   "cell_type": "code",
   "execution_count": 31,
   "metadata": {},
   "outputs": [],
   "source": [
    "DIM_ATM=df1.select(\"atm_id\",\"atm_location_id\",\"atm_number\",\"atm_manufacturer\").distinct()"
   ]
  },
  {
   "cell_type": "code",
   "execution_count": 50,
   "metadata": {},
   "outputs": [
    {
     "name": "stdout",
     "output_type": "stream",
     "text": [
      "+------+---------------+----------+----------------+\n",
      "|atm_id|atm_location_id|atm_number|atm_manufacturer|\n",
      "+------+---------------+----------+----------------+\n",
      "|    94|             83|        88|             NCR|\n",
      "|    55|             67|        81|             NCR|\n",
      "|    12|             19|        46| Diebold Nixdorf|\n",
      "|    66|             59|        53|             NCR|\n",
      "|    35|             63|        47|             NCR|\n",
      "|    80|             73|        50|             NCR|\n",
      "|    37|             70|        16|             NCR|\n",
      "|    25|             66|        87|             NCR|\n",
      "|    98|             35|       109| Diebold Nixdorf|\n",
      "|    21|             90|        30|             NCR|\n",
      "|    67|             54|        22|             NCR|\n",
      "|    17|             95|        14|             NCR|\n",
      "|     1|             87|         7| Diebold Nixdorf|\n",
      "|    59|             54|       106|             NCR|\n",
      "|     1|             46|         7| Diebold Nixdorf|\n",
      "|    53|             61|        56| Diebold Nixdorf|\n",
      "|    22|             51|        61|             NCR|\n",
      "|    47|             70|        91|             NCR|\n",
      "|    89|             49|        31|             NCR|\n",
      "|    60|             45|        52|             NCR|\n",
      "|    90|             84|       111| Diebold Nixdorf|\n",
      "|    20|             43|        34|             NCR|\n",
      "|    82|             97|        96|             NCR|\n",
      "|     8|             79|        82|             NCR|\n",
      "|   109|             25|       104|             NCR|\n",
      "|    50|             37|        90|             NCR|\n",
      "|    47|             34|        91|             NCR|\n",
      "|    34|            104|        75|             NCR|\n",
      "|   104|            102|        24|             NCR|\n",
      "|    23|             78|        63|             NCR|\n",
      "|    43|             42|        57|             NCR|\n",
      "|    37|             34|        16|             NCR|\n",
      "|    18|             76|         9| Diebold Nixdorf|\n",
      "|     7|             83|       102|             NCR|\n",
      "|    44|             27|        37|             NCR|\n",
      "|   108|            109|        36|             NCR|\n",
      "|   109|             86|       104|             NCR|\n",
      "|    92|             55|        48| Diebold Nixdorf|\n",
      "|    48|             53|        99|             NCR|\n",
      "|    42|             62|        64|             NCR|\n",
      "|    61|             81|        68|             NCR|\n",
      "|    52|             92|        40| Diebold Nixdorf|\n",
      "|    39|             37|       110| Diebold Nixdorf|\n",
      "|     6|             50|         5|             NCR|\n",
      "|    96|             15|        35|             NCR|\n",
      "|    56|             71|        92|             NCR|\n",
      "|    89|              2|        31|             NCR|\n",
      "|    79|              4|        19|             NCR|\n",
      "|    37|             18|        16|             NCR|\n",
      "|    56|            109|        92|             NCR|\n",
      "|    57|             92|        89|             NCR|\n",
      "|    99|             49|       113| Diebold Nixdorf|\n",
      "|    86|             46|        97|             NCR|\n",
      "|   112|             55|        93|             NCR|\n",
      "|    81|             40|        41| Diebold Nixdorf|\n",
      "|     7|             66|       102|             NCR|\n",
      "|    77|             10|        95|             NCR|\n",
      "|     9|             24|        66|             NCR|\n",
      "|    40|              5|       108|             NCR|\n",
      "|    51|             13|        18| Diebold Nixdorf|\n",
      "|    83|             16|        23| Diebold Nixdorf|\n",
      "|    91|             29|        79|             NCR|\n",
      "|    10|             69|        80|             NCR|\n",
      "|    93|             94|        25| Diebold Nixdorf|\n",
      "|    24|             40|        94|             NCR|\n",
      "|    93|             38|        25| Diebold Nixdorf|\n",
      "|    73|            106|        85| Diebold Nixdorf|\n",
      "|    30|              9|        38|             NCR|\n",
      "|    73|             10|        85| Diebold Nixdorf|\n",
      "|    69|             18|       100|             NCR|\n",
      "|    50|             12|        90|             NCR|\n",
      "|    14|             86|        21|             NCR|\n",
      "|   106|             56|        71|             NCR|\n",
      "|   108|             71|        36|             NCR|\n",
      "|    64|             90|        59| Diebold Nixdorf|\n",
      "|    59|            107|       106|             NCR|\n",
      "|    25|             93|        87|             NCR|\n",
      "|    29|             12|        26|             NCR|\n",
      "|    27|             85|        73|             NCR|\n",
      "|     3|             39|        55|             NCR|\n",
      "|    65|             65|        51|             NCR|\n",
      "|    32|             28|        60|             NCR|\n",
      "|   105|             58|        44|             NCR|\n",
      "|   103|             14|        13|             NCR|\n",
      "|    11|             98|         1|             NCR|\n",
      "|    72|              1|        33|             NCR|\n",
      "|    97|             32|       101|             NCR|\n",
      "|    46|              7|        77|             NCR|\n",
      "|    14|             25|        21|             NCR|\n",
      "|     5|             22|        45|             NCR|\n",
      "|   112|            101|        93|             NCR|\n",
      "|    61|             53|        68|             NCR|\n",
      "|    92|            101|        48| Diebold Nixdorf|\n",
      "|    47|             18|        91|             NCR|\n",
      "|   113|             26|       105| Diebold Nixdorf|\n",
      "|   110|             52|        27|             NCR|\n",
      "|    28|             21|         8|             NCR|\n",
      "|    63|             96|        20|             NCR|\n",
      "|    19|             74|       112| Diebold Nixdorf|\n",
      "|    24|            105|        94|             NCR|\n",
      "|    85|             72|        54|             NCR|\n",
      "|    57|             88|        89|             NCR|\n",
      "|   111|             68|        12|             NCR|\n",
      "|    45|             17|        69|             NCR|\n",
      "|    62|             75|         4|             NCR|\n",
      "|    33|             44|        84|             NCR|\n",
      "|    39|             12|       110| Diebold Nixdorf|\n",
      "|    76|             38|        98|             NCR|\n",
      "|    25|             83|        87|             NCR|\n",
      "|    13|              3|         6|             NCR|\n",
      "|    16|             99|        58|             NCR|\n",
      "|    14|             68|        21|             NCR|\n",
      "|    69|             70|       100|             NCR|\n",
      "|    74|              6|        43|             NCR|\n",
      "|    94|             93|        88|             NCR|\n",
      "|    54|            103|         2|             NCR|\n",
      "|    87|            103|       103| Diebold Nixdorf|\n",
      "|    75|            108|        32|             NCR|\n",
      "|    64|             57|        59| Diebold Nixdorf|\n",
      "|     7|             93|       102|             NCR|\n",
      "|     4|             77|        11|             NCR|\n",
      "|    77|            106|        95|             NCR|\n",
      "|    99|              2|       113| Diebold Nixdorf|\n",
      "|    67|            107|        22|             NCR|\n",
      "|   111|             25|        12|             NCR|\n",
      "|    68|             89|        86|             NCR|\n",
      "|    26|             82|        28|             NCR|\n",
      "|   101|             41|        76|             NCR|\n",
      "|    88|             36|        15|             NCR|\n",
      "|    15|              8|        83|             NCR|\n",
      "|    49|            100|        65|             NCR|\n",
      "|    69|             34|       100|             NCR|\n",
      "|   109|             68|       104|             NCR|\n",
      "|    38|             33|        67|             NCR|\n",
      "|    78|             20|        74|             NCR|\n",
      "|    86|             87|        97|             NCR|\n",
      "|     2|              4|       107| Diebold Nixdorf|\n",
      "|   107|             91|        72|             NCR|\n",
      "|   111|             86|        12|             NCR|\n",
      "|    29|             37|        26|             NCR|\n",
      "|    94|             66|        88|             NCR|\n",
      "|    36|             64|        78| Diebold Nixdorf|\n",
      "|    76|             94|        98|             NCR|\n",
      "|    48|             81|        99|             NCR|\n",
      "|    41|             30|        62| Diebold Nixdorf|\n",
      "|    84|             31|        42|             NCR|\n",
      "|    31|             11|        29|             NCR|\n",
      "|   100|             23|        39|             NCR|\n",
      "|   102|             26|        10|             NCR|\n",
      "|    21|             57|        30|             NCR|\n",
      "|    70|             60|        70| Diebold Nixdorf|\n",
      "|    71|             48|        17|             NCR|\n",
      "|    95|             80|        49|             NCR|\n",
      "|    81|            105|        41| Diebold Nixdorf|\n",
      "|    58|             47|         3|             NCR|\n",
      "|    52|             88|        40| Diebold Nixdorf|\n",
      "+------+---------------+----------+----------------+\n",
      "\n"
     ]
    }
   ],
   "source": [
    "DIM_ATM.show(156)"
   ]
  },
  {
   "cell_type": "code",
   "execution_count": 33,
   "metadata": {},
   "outputs": [
    {
     "data": {
      "text/plain": [
       "156"
      ]
     },
     "execution_count": 33,
     "metadata": {},
     "output_type": "execute_result"
    }
   ],
   "source": [
    "DIM_ATM.count()"
   ]
  },
  {
   "cell_type": "code",
   "execution_count": 34,
   "metadata": {},
   "outputs": [],
   "source": [
    "df2=df.join(DIM_DATE, on=['year','month','day','hour'],how='outer')\n",
    "df3=df2.join(DIM_CARD_TYPE, on=['card_type'], how='outer')\n",
    "df4=df3.join(DIM_LOCATION, on=['atm_location','atm_lat','atm_lon','atm_zipcode','atm_street_number','atm_streetname'], how='outer')"
   ]
  },
  {
   "cell_type": "code",
   "execution_count": 35,
   "metadata": {},
   "outputs": [
    {
     "name": "stdout",
     "output_type": "stream",
     "text": [
      "+---------------+----+-----+---+----+--------+----------+------+----------------+------------+-------------------+-----------------+-----------+-------+-------+--------+------------------+----------+------------+------------+-----------+-----------+---------------+-----------------+-------+--------+--------+----------+--------+-------+----------+----------+------------+-------------------+-------+-------------------+--------+------------+\n",
      "|      card_type|year|month|day|hour| weekday|atm_status|atm_id|atm_manufacturer|atm_location|     atm_streetname|atm_street_number|atm_zipcode|atm_lat|atm_lon|currency|transaction_amount|   service|message_code|message_text|weather_lat|weather_lon|weather_city_id|weather_city_name|   temp|pressure|humidity|wind_speed|wind_deg|rain_3h|clouds_all|weather_id|weather_main|weather_description|date_id|     full_date_time| weekday|card_type_id|\n",
      "+---------------+----+-----+---+----+--------+----------+------+----------------+------------+-------------------+-----------------+-----------+-------+-------+--------+------------------+----------+------------+------------+-----------+-----------+---------------+-----------------+-------+--------+--------+----------+--------+-------+----------+----------+------------+-------------------+-------+-------------------+--------+------------+\n",
      "|Dankort - on-us|2017|April|  1|  17|Saturday|    Active|    67|             NCR|  HÃƒÂ¸jslev|     ÃƒËœsterrisvej|                2|       7840| 56.551|   9.11|     DKK|              9348|Withdrawal|        null|        null|     56.586|      9.136|        2619908|          Hojslev|284.047|    1022|      69|         3|     251|    0.0|        64|       803|      Clouds|      broken clouds|   1758|2017-04-01 17:00:00|Saturday|           1|\n",
      "|Dankort - on-us|2017|April|  1|  17|Saturday|  Inactive|     3|             NCR|       Ikast|RÃƒÂ¥dhusstrÃƒÂ¦det|               12|       7430| 56.139|  9.154|     DKK|              3585|Withdrawal|        null|        null|     56.139|      9.158|        2619426|            Ikast| 287.15|    1010|      67|         2|     230|    0.0|        76|       803|      Clouds|      broken clouds|   1758|2017-04-01 17:00:00|Saturday|           1|\n",
      "|Dankort - on-us|2017|April|  1|  17|Saturday|  Inactive|    74|             NCR|     Jebjerg|          Kirkegade|                4|       7870| 56.671|  9.013|     DKK|              9660|Withdrawal|        null|        null|     56.567|      9.033|        2613731|            Skive| 287.15|    1010|      67|         2|     230|    0.0|        76|       803|      Clouds|      broken clouds|   1758|2017-04-01 17:00:00|Saturday|           1|\n",
      "|Dankort - on-us|2017|April|  1|  17|Saturday|  Inactive|    74|             NCR|     Jebjerg|          Kirkegade|                4|       7870| 56.671|  9.013|     DKK|              9209|Withdrawal|        null|        null|     56.567|      9.033|        2613731|            Skive| 287.15|    1010|      67|         2|     230|    0.0|        76|       803|      Clouds|      broken clouds|   1758|2017-04-01 17:00:00|Saturday|           1|\n",
      "|Dankort - on-us|2017|April|  1|  17|Saturday|    Active|    45|             NCR|  Abildgaard|     HjÃƒÂ¸rringvej|              144|       9900| 57.447| 10.506|     DKK|               909|Withdrawal|        null|        null|     57.441|     10.537|        2621927|    Frederikshavn|281.197|    1022|      79|         5|     249|    0.0|        76|       803|      Clouds|      broken clouds|   1758|2017-04-01 17:00:00|Saturday|           1|\n",
      "+---------------+----+-----+---+----+--------+----------+------+----------------+------------+-------------------+-----------------+-----------+-------+-------+--------+------------------+----------+------------+------------+-----------+-----------+---------------+-----------------+-------+--------+--------+----------+--------+-------+----------+----------+------------+-------------------+-------+-------------------+--------+------------+\n",
      "only showing top 5 rows\n",
      "\n"
     ]
    }
   ],
   "source": [
    "df3.show(5)"
   ]
  },
  {
   "cell_type": "code",
   "execution_count": 36,
   "metadata": {},
   "outputs": [
    {
     "name": "stdout",
     "output_type": "stream",
     "text": [
      "+-------+-------------------+----+-------+---+----+---------+\n",
      "|date_id|     full_date_time|year|  month|day|hour|  weekday|\n",
      "+-------+-------------------+----+-------+---+----+---------+\n",
      "|      1|2017-01-01 12:00:00|2017|January|  1|  12|   Sunday|\n",
      "|      2|2017-01-06 08:00:00|2017|January|  6|   8|   Friday|\n",
      "|      3|2017-01-08 16:00:00|2017|January|  8|  16|   Sunday|\n",
      "|      4|2017-01-16 18:00:00|2017|January| 16|  18|   Monday|\n",
      "|      5|2017-01-18 07:00:00|2017|January| 18|   7|Wednesday|\n",
      "+-------+-------------------+----+-------+---+----+---------+\n",
      "only showing top 5 rows\n",
      "\n"
     ]
    }
   ],
   "source": [
    "DIM_DATE.show(5)"
   ]
  },
  {
   "cell_type": "code",
   "execution_count": 37,
   "metadata": {},
   "outputs": [],
   "source": [
    "FACT_ATM_TRANS = df4.select(\"atm_id\",\"atm_location_id\",\"date_id\",\"card_type_id\",\"atm_status\" ,\"currency\" ,\"service\" ,\"transaction_amount\" ,\"message_code\",\"message_text\" ,\"rain_3h\" ,\"clouds_all\" ,\"weather_id\" ,\"weather_main\" ,\"weather_description\")"
   ]
  },
  {
   "cell_type": "code",
   "execution_count": 38,
   "metadata": {},
   "outputs": [],
   "source": [
    "FACT_ATM_TRANS=FACT_ATM_TRANS.withColumn('trans_id',row_number().over(Window.orderBy(monotonically_increasing_id())));\n"
   ]
  },
  {
   "cell_type": "code",
   "execution_count": 39,
   "metadata": {},
   "outputs": [],
   "source": [
    "FACT_ATM_TRANS = FACT_ATM_TRANS.select(\"trans_id\",\"atm_id\",\"atm_location_id\",\"date_id\",\"card_type_id\",\"atm_status\" ,\"currency\" ,\"service\" ,\"transaction_amount\" ,\"message_code\",\"message_text\" ,\"rain_3h\" ,\"clouds_all\" ,\"weather_id\" ,\"weather_main\" ,\"weather_description\")"
   ]
  },
  {
   "cell_type": "code",
   "execution_count": 40,
   "metadata": {},
   "outputs": [
    {
     "data": {
      "text/plain": [
       "2468572"
      ]
     },
     "execution_count": 40,
     "metadata": {},
     "output_type": "execute_result"
    }
   ],
   "source": [
    "FACT_ATM_TRANS.count()"
   ]
  },
  {
   "cell_type": "code",
   "execution_count": 43,
   "metadata": {},
   "outputs": [],
   "source": [
    "DIM_LOCATION.write.csv('s3a://mybucketagosh/DIM_LOCATION', mode='overwrite', header = True, sep = '|')"
   ]
  },
  {
   "cell_type": "code",
   "execution_count": 44,
   "metadata": {},
   "outputs": [],
   "source": [
    "DIM_ATM.write.csv('s3a://mybucketagosh/DIM_ATM', mode='overwrite', header = True, sep = '|')"
   ]
  },
  {
   "cell_type": "code",
   "execution_count": 45,
   "metadata": {},
   "outputs": [],
   "source": [
    "DIM_DATE.write.csv('s3a://mybucketagosh/DIM_DATE', mode='overwrite', header = True, sep = '|')"
   ]
  },
  {
   "cell_type": "code",
   "execution_count": 46,
   "metadata": {},
   "outputs": [],
   "source": [
    "DIM_CARD_TYPE.write.csv('s3a://mybucketagosh/DIM_CARD_TYPE', mode='overwrite', header = True, sep = '|')"
   ]
  },
  {
   "cell_type": "code",
   "execution_count": 47,
   "metadata": {},
   "outputs": [],
   "source": [
    "FACT_ATM_TRANS.write.csv('s3a://mybucketagosh/FACT_ATM_TRANS', mode='overwrite', header = True, sep = '|')"
   ]
  },
  {
   "cell_type": "code",
   "execution_count": null,
   "metadata": {},
   "outputs": [],
   "source": []
  }
 ],
 "metadata": {
  "kernelspec": {
   "display_name": "Python 2",
   "language": "python",
   "name": "python2"
  },
  "language_info": {
   "codemirror_mode": {
    "name": "ipython",
    "version": 2
   },
   "file_extension": ".py",
   "mimetype": "text/x-python",
   "name": "python",
   "nbconvert_exporter": "python",
   "pygments_lexer": "ipython2",
   "version": "2.7.16"
  }
 },
 "nbformat": 4,
 "nbformat_minor": 2
}
